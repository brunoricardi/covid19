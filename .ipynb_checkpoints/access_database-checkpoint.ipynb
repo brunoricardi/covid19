{
 "cells": [
  {
   "cell_type": "markdown",
   "metadata": {},
   "source": [
    "# Downloading data base\n",
    "\n",
    "This notebook is created to access the 2019 Novel Coronavirus COVID-19 (2019-nCoV) Data Repository by Johns Hopkins CSSE, which can be found here: https://github.com/CSSEGISandData/COVID-19\n",
    "\n",
    "Written by Bruno Abreu, April 2020\n",
    "as part of the Racionalidade Cientifica initiative."
   ]
  },
  {
   "cell_type": "code",
   "execution_count": 1,
   "metadata": {},
   "outputs": [],
   "source": [
    "import sys\n",
    "import os\n",
    "import pandas as pd"
   ]
  },
  {
   "cell_type": "code",
   "execution_count": 2,
   "metadata": {},
   "outputs": [],
   "source": [
    "global repo_path\n",
    "repo_path = \"/home/babreu/Science/covid19/repo\""
   ]
  },
  {
   "cell_type": "code",
   "execution_count": 3,
   "metadata": {},
   "outputs": [],
   "source": [
    "def update_repo():\n",
    "    \"\"\"\n",
    "    This should clone the data base to your working directory. Make sure to correct the file path, as well as \n",
    "    make sure to run this function before doing analysis so that you get all of the available data.\n",
    "    \"\"\"\n",
    "    pull = \"git pull https://github.com/CSSEGISandData/COVID-19.git\"\n",
    "    os.chdir(repo_path) \n",
    "    os.system(pull)\n",
    "\n"
   ]
  },
  {
   "cell_type": "markdown",
   "metadata": {},
   "source": [
    "# Reading files: temporal series"
   ]
  },
  {
   "cell_type": "code",
   "execution_count": 4,
   "metadata": {},
   "outputs": [],
   "source": [
    "def read_files_ts():\n",
    "    \"\"\"\n",
    "    Function to read the CSV files with temporal series and place them into pandas dataframes. \n",
    "    It will return 3 data frames.\n",
    "    \"\"\"\n",
    "    update_repo()\n",
    "    \n",
    "    file = repo_path + \"/csse_covid_19_data/csse_covid_19_time_series/time_series_covid19_confirmed_global.csv\" \n",
    "    df_cases = pd.read_csv(file)\n",
    "    \n",
    "    file = repo_path + \"/csse_covid_19_data/csse_covid_19_time_series/time_series_covid19_deaths_global.csv\" \n",
    "    df_deaths = pd.read_csv(file)\n",
    "    \n",
    "    file = repo_path + \"/csse_covid_19_data/csse_covid_19_time_series/time_series_covid19_recovered_global.csv\" \n",
    "    df_recovs = pd.read_csv(file)\n",
    "    \n",
    "    return df_cases, df_deaths, df_recovs"
   ]
  },
  {
   "cell_type": "code",
   "execution_count": 5,
   "metadata": {},
   "outputs": [],
   "source": [
    "df_c,df_d,df_r = read_files_ts()"
   ]
  },
  {
   "cell_type": "code",
   "execution_count": 6,
   "metadata": {},
   "outputs": [
    {
     "data": {
      "text/html": [
       "<div>\n",
       "<style scoped>\n",
       "    .dataframe tbody tr th:only-of-type {\n",
       "        vertical-align: middle;\n",
       "    }\n",
       "\n",
       "    .dataframe tbody tr th {\n",
       "        vertical-align: top;\n",
       "    }\n",
       "\n",
       "    .dataframe thead th {\n",
       "        text-align: right;\n",
       "    }\n",
       "</style>\n",
       "<table border=\"1\" class=\"dataframe\">\n",
       "  <thead>\n",
       "    <tr style=\"text-align: right;\">\n",
       "      <th></th>\n",
       "      <th>Province/State</th>\n",
       "      <th>Country/Region</th>\n",
       "      <th>Lat</th>\n",
       "      <th>Long</th>\n",
       "      <th>1/22/20</th>\n",
       "      <th>1/23/20</th>\n",
       "      <th>1/24/20</th>\n",
       "      <th>1/25/20</th>\n",
       "      <th>1/26/20</th>\n",
       "      <th>1/27/20</th>\n",
       "      <th>...</th>\n",
       "      <th>3/30/20</th>\n",
       "      <th>3/31/20</th>\n",
       "      <th>4/1/20</th>\n",
       "      <th>4/2/20</th>\n",
       "      <th>4/3/20</th>\n",
       "      <th>4/4/20</th>\n",
       "      <th>4/5/20</th>\n",
       "      <th>4/6/20</th>\n",
       "      <th>4/7/20</th>\n",
       "      <th>4/8/20</th>\n",
       "    </tr>\n",
       "  </thead>\n",
       "  <tbody>\n",
       "    <tr>\n",
       "      <th>15</th>\n",
       "      <td>Western Australia</td>\n",
       "      <td>Australia</td>\n",
       "      <td>-31.9505</td>\n",
       "      <td>115.8605</td>\n",
       "      <td>0</td>\n",
       "      <td>0</td>\n",
       "      <td>0</td>\n",
       "      <td>0</td>\n",
       "      <td>0</td>\n",
       "      <td>0</td>\n",
       "      <td>...</td>\n",
       "      <td>355</td>\n",
       "      <td>364</td>\n",
       "      <td>392</td>\n",
       "      <td>400</td>\n",
       "      <td>400</td>\n",
       "      <td>436</td>\n",
       "      <td>453</td>\n",
       "      <td>460</td>\n",
       "      <td>460</td>\n",
       "      <td>481</td>\n",
       "    </tr>\n",
       "    <tr>\n",
       "      <th>49</th>\n",
       "      <td>Anhui</td>\n",
       "      <td>China</td>\n",
       "      <td>31.8257</td>\n",
       "      <td>117.2264</td>\n",
       "      <td>1</td>\n",
       "      <td>9</td>\n",
       "      <td>15</td>\n",
       "      <td>39</td>\n",
       "      <td>60</td>\n",
       "      <td>70</td>\n",
       "      <td>...</td>\n",
       "      <td>990</td>\n",
       "      <td>990</td>\n",
       "      <td>990</td>\n",
       "      <td>990</td>\n",
       "      <td>990</td>\n",
       "      <td>990</td>\n",
       "      <td>990</td>\n",
       "      <td>990</td>\n",
       "      <td>990</td>\n",
       "      <td>990</td>\n",
       "    </tr>\n",
       "    <tr>\n",
       "      <th>19</th>\n",
       "      <td>NaN</td>\n",
       "      <td>Bahrain</td>\n",
       "      <td>26.0275</td>\n",
       "      <td>50.5500</td>\n",
       "      <td>0</td>\n",
       "      <td>0</td>\n",
       "      <td>0</td>\n",
       "      <td>0</td>\n",
       "      <td>0</td>\n",
       "      <td>0</td>\n",
       "      <td>...</td>\n",
       "      <td>515</td>\n",
       "      <td>567</td>\n",
       "      <td>569</td>\n",
       "      <td>643</td>\n",
       "      <td>672</td>\n",
       "      <td>688</td>\n",
       "      <td>700</td>\n",
       "      <td>756</td>\n",
       "      <td>811</td>\n",
       "      <td>823</td>\n",
       "    </tr>\n",
       "    <tr>\n",
       "      <th>90</th>\n",
       "      <td>NaN</td>\n",
       "      <td>Cyprus</td>\n",
       "      <td>35.1264</td>\n",
       "      <td>33.4299</td>\n",
       "      <td>0</td>\n",
       "      <td>0</td>\n",
       "      <td>0</td>\n",
       "      <td>0</td>\n",
       "      <td>0</td>\n",
       "      <td>0</td>\n",
       "      <td>...</td>\n",
       "      <td>230</td>\n",
       "      <td>262</td>\n",
       "      <td>320</td>\n",
       "      <td>356</td>\n",
       "      <td>396</td>\n",
       "      <td>426</td>\n",
       "      <td>446</td>\n",
       "      <td>465</td>\n",
       "      <td>494</td>\n",
       "      <td>526</td>\n",
       "    </tr>\n",
       "    <tr>\n",
       "      <th>100</th>\n",
       "      <td>NaN</td>\n",
       "      <td>Equatorial Guinea</td>\n",
       "      <td>1.5000</td>\n",
       "      <td>10.0000</td>\n",
       "      <td>0</td>\n",
       "      <td>0</td>\n",
       "      <td>0</td>\n",
       "      <td>0</td>\n",
       "      <td>0</td>\n",
       "      <td>0</td>\n",
       "      <td>...</td>\n",
       "      <td>12</td>\n",
       "      <td>12</td>\n",
       "      <td>15</td>\n",
       "      <td>15</td>\n",
       "      <td>16</td>\n",
       "      <td>16</td>\n",
       "      <td>16</td>\n",
       "      <td>16</td>\n",
       "      <td>16</td>\n",
       "      <td>18</td>\n",
       "    </tr>\n",
       "  </tbody>\n",
       "</table>\n",
       "<p>5 rows × 82 columns</p>\n",
       "</div>"
      ],
      "text/plain": [
       "        Province/State     Country/Region      Lat      Long  1/22/20  \\\n",
       "15   Western Australia          Australia -31.9505  115.8605        0   \n",
       "49               Anhui              China  31.8257  117.2264        1   \n",
       "19                 NaN            Bahrain  26.0275   50.5500        0   \n",
       "90                 NaN             Cyprus  35.1264   33.4299        0   \n",
       "100                NaN  Equatorial Guinea   1.5000   10.0000        0   \n",
       "\n",
       "     1/23/20  1/24/20  1/25/20  1/26/20  1/27/20  ...  3/30/20  3/31/20  \\\n",
       "15         0        0        0        0        0  ...      355      364   \n",
       "49         9       15       39       60       70  ...      990      990   \n",
       "19         0        0        0        0        0  ...      515      567   \n",
       "90         0        0        0        0        0  ...      230      262   \n",
       "100        0        0        0        0        0  ...       12       12   \n",
       "\n",
       "     4/1/20  4/2/20  4/3/20  4/4/20  4/5/20  4/6/20  4/7/20  4/8/20  \n",
       "15      392     400     400     436     453     460     460     481  \n",
       "49      990     990     990     990     990     990     990     990  \n",
       "19      569     643     672     688     700     756     811     823  \n",
       "90      320     356     396     426     446     465     494     526  \n",
       "100      15      15      16      16      16      16      16      18  \n",
       "\n",
       "[5 rows x 82 columns]"
      ]
     },
     "execution_count": 6,
     "metadata": {},
     "output_type": "execute_result"
    }
   ],
   "source": [
    "df_c.sample(5)"
   ]
  },
  {
   "cell_type": "markdown",
   "metadata": {},
   "source": [
    "## Cleaning data"
   ]
  },
  {
   "cell_type": "code",
   "execution_count": 7,
   "metadata": {},
   "outputs": [],
   "source": [
    "from datetime import datetime      #having a nicer index format so graphs look cool"
   ]
  },
  {
   "cell_type": "code",
   "execution_count": 8,
   "metadata": {},
   "outputs": [],
   "source": [
    "df_c = df_c.T                     #using transpose of data frame\n",
    "\n",
    "df_c.fillna('',inplace=True)      #droping NaNs\n",
    " \n",
    "x1 = []                            #putting together state and country                        \n",
    "for i in range(df_c.shape[1]):\n",
    "    if df_c.iloc[0][i] == '':\n",
    "        y = df_c.iloc[1][i]\n",
    "    else:\n",
    "        y = df_c.iloc[0][i] + ', ' + df_c.iloc[1][i]\n",
    "    x1.append(y)\n",
    "    \n",
    "df_c.columns = x1\n",
    "\n",
    "df_c.drop(index=['Province/State','Country/Region','Lat', 'Long'],inplace=True)       #droping geography, keeping only dates\n",
    "  \n",
    "\n",
    "x2 = []                             #turning index into datetime format\n",
    "for i in range(len(df_c.index)):\n",
    "    y = df_c.index[i]\n",
    "    z = datetime.strptime(y, '%m/%d/%y')\n",
    "    x2.append(z)\n",
    "\n",
    "df_c.index = x2"
   ]
  },
  {
   "cell_type": "code",
   "execution_count": 9,
   "metadata": {},
   "outputs": [],
   "source": [
    "df_d = df_d.T\n",
    "df_d.fillna('',inplace=True) \n",
    "x1 = []                     \n",
    "for i in range(df_d.shape[1]):\n",
    "    if df_d.iloc[0][i] == '':\n",
    "        y = df_d.iloc[1][i]\n",
    "    else:\n",
    "        y = df_d.iloc[0][i] + ', ' + df_d.iloc[1][i]\n",
    "    x1.append(y)\n",
    "df_d.columns = x1\n",
    "df_d.drop(index=['Province/State','Country/Region','Lat', 'Long'],inplace=True)\n",
    "x2 = []\n",
    "for i in range(len(df_d.index)):\n",
    "    y = df_d.index[i]\n",
    "    z = datetime.strptime(y, '%m/%d/%y')\n",
    "    x2.append(z)\n",
    "df_d.index = x2"
   ]
  },
  {
   "cell_type": "code",
   "execution_count": 10,
   "metadata": {},
   "outputs": [],
   "source": [
    "df_r = df_r.T\n",
    "df_r.fillna('',inplace=True) \n",
    "x1 = []                     \n",
    "for i in range(df_r.shape[1]):\n",
    "    if df_r.iloc[0][i] == '':\n",
    "        y = df_r.iloc[1][i]\n",
    "    else:\n",
    "        y = df_r.iloc[0][i] + ', ' + df_r.iloc[1][i]\n",
    "    x1.append(y)\n",
    "df_r.columns = x1\n",
    "df_r.drop(index=['Province/State','Country/Region','Lat', 'Long'],inplace=True)\n",
    "x2 = []\n",
    "for i in range(len(df_r.index)):\n",
    "    y = df_r.index[i]\n",
    "    z = datetime.strptime(y, '%m/%d/%y')\n",
    "    x2.append(z)\n",
    "df_r.index = x2"
   ]
  },
  {
   "cell_type": "markdown",
   "metadata": {},
   "source": [
    "Now we have a way to look at specific countries/regions:"
   ]
  },
  {
   "cell_type": "code",
   "execution_count": 11,
   "metadata": {},
   "outputs": [
    {
     "data": {
      "text/plain": [
       "2020-03-23     34\n",
       "2020-02-05      0\n",
       "2020-02-02      0\n",
       "2020-01-28      0\n",
       "2020-04-01    240\n",
       "Name: Brazil, dtype: object"
      ]
     },
     "execution_count": 11,
     "metadata": {},
     "output_type": "execute_result"
    }
   ],
   "source": [
    "df_d['Brazil'].sample(5)"
   ]
  },
  {
   "cell_type": "markdown",
   "metadata": {},
   "source": [
    "### Separating by country, viz. disregarding regions --- TO DO\n",
    "\n",
    "For local analysis it could be important to have data split into province/state, but for a global analysis that doesn't matter much. Plus, some countries are still not releasing that much granular data. So we could group these."
   ]
  },
  {
   "cell_type": "markdown",
   "metadata": {},
   "source": [
    "## Framing BRAZIL"
   ]
  },
  {
   "cell_type": "code",
   "execution_count": 12,
   "metadata": {},
   "outputs": [],
   "source": [
    "brazil = pd.DataFrame(index=df_c.index)\n",
    "brazil['Cases'] = df_c['Brazil']\n",
    "brazil['Deaths'] = df_d['Brazil']\n",
    "brazil['Recovered'] = df_r['Brazil']"
   ]
  },
  {
   "cell_type": "code",
   "execution_count": 13,
   "metadata": {},
   "outputs": [
    {
     "data": {
      "text/html": [
       "<div>\n",
       "<style scoped>\n",
       "    .dataframe tbody tr th:only-of-type {\n",
       "        vertical-align: middle;\n",
       "    }\n",
       "\n",
       "    .dataframe tbody tr th {\n",
       "        vertical-align: top;\n",
       "    }\n",
       "\n",
       "    .dataframe thead th {\n",
       "        text-align: right;\n",
       "    }\n",
       "</style>\n",
       "<table border=\"1\" class=\"dataframe\">\n",
       "  <thead>\n",
       "    <tr style=\"text-align: right;\">\n",
       "      <th></th>\n",
       "      <th>Cases</th>\n",
       "      <th>Deaths</th>\n",
       "      <th>Recovered</th>\n",
       "    </tr>\n",
       "  </thead>\n",
       "  <tbody>\n",
       "    <tr>\n",
       "      <th>2020-04-06</th>\n",
       "      <td>12161</td>\n",
       "      <td>564</td>\n",
       "      <td>127</td>\n",
       "    </tr>\n",
       "    <tr>\n",
       "      <th>2020-02-15</th>\n",
       "      <td>0</td>\n",
       "      <td>0</td>\n",
       "      <td>0</td>\n",
       "    </tr>\n",
       "    <tr>\n",
       "      <th>2020-01-22</th>\n",
       "      <td>0</td>\n",
       "      <td>0</td>\n",
       "      <td>0</td>\n",
       "    </tr>\n",
       "  </tbody>\n",
       "</table>\n",
       "</div>"
      ],
      "text/plain": [
       "            Cases Deaths Recovered\n",
       "2020-04-06  12161    564       127\n",
       "2020-02-15      0      0         0\n",
       "2020-01-22      0      0         0"
      ]
     },
     "execution_count": 13,
     "metadata": {},
     "output_type": "execute_result"
    }
   ],
   "source": [
    "brazil.sample(3)"
   ]
  },
  {
   "cell_type": "markdown",
   "metadata": {},
   "source": [
    "# Plotting"
   ]
  },
  {
   "cell_type": "code",
   "execution_count": 14,
   "metadata": {},
   "outputs": [],
   "source": [
    "import matplotlib.pyplot as plt \n",
    "plt.show()"
   ]
  },
  {
   "cell_type": "code",
   "execution_count": 15,
   "metadata": {},
   "outputs": [
    {
     "data": {
      "text/plain": [
       "Text(0, 0.5, 'Number of cases')"
      ]
     },
     "execution_count": 15,
     "metadata": {},
     "output_type": "execute_result"
    },
    {
     "data": {
      "image/png": "[encoded data removed]",
      "text/plain": [
       "<Figure size 432x288 with 1 Axes>"
      ]
     },
     "metadata": {
      "needs_background": "light"
     },
     "output_type": "display_data"
    }
   ],
   "source": [
    "df_c[['Brazil','Italy', 'US','Spain']].plot(linewidth=3)\n",
    "plt.ylabel('Number of cases') "
   ]
  },
  {
   "cell_type": "code",
   "execution_count": 16,
   "metadata": {},
   "outputs": [
    {
     "data": {
      "text/plain": [
       "<matplotlib.axes._subplots.AxesSubplot at 0x7f8209e806d8>"
      ]
     },
     "execution_count": 16,
     "metadata": {},
     "output_type": "execute_result"
    },
    {
     "data": {
      "image/png": "[encoded data removed]",
      "text/plain": [
       "<Figure size 432x288 with 1 Axes>"
      ]
     },
     "metadata": {
      "needs_background": "light"
     },
     "output_type": "display_data"
    }
   ],
   "source": [
    "brazil.plot(kind='line',linewidth=4,title='Brazil numbers')"
   ]
  },
  {
   "cell_type": "code",
   "execution_count": 17,
   "metadata": {},
   "outputs": [
    {
     "data": {
      "text/plain": [
       "<matplotlib.axes._subplots.AxesSubplot at 0x7f8209d5ae10>"
      ]
     },
     "execution_count": 17,
     "metadata": {},
     "output_type": "execute_result"
    },
    {
     "data": {
      "image/png": "[encoded data removed]",
      "text/plain": [
       "<Figure size 432x288 with 1 Axes>"
      ]
     },
     "metadata": {
      "needs_background": "light"
     },
     "output_type": "display_data"
    }
   ],
   "source": [
    "brazil.plot(kind='line',linewidth=4,logy=True,title='Brazil numbers')"
   ]
  },
  {
   "cell_type": "markdown",
   "metadata": {},
   "source": [
    "# Reading files: daily data"
   ]
  },
  {
   "cell_type": "code",
   "execution_count": 18,
   "metadata": {},
   "outputs": [],
   "source": [
    "def read_files_dd():\n",
    "    \"\"\"\n",
    "    This function will read the daily reports files and return a double-indexed dataframe with the external\n",
    "    layer representing the Country and the internal layer representing the date.\n",
    "    \"\"\"\n",
    "    update_repo()\n",
    "\n",
    "    # path to folder\n",
    "    dd_path = repo_path + \"/csse_covid_19_data/csse_covid_19_daily_reports\"\n",
    "    os.chdir(dd_path)\n",
    "    filelist = os.listdir()\n",
    "\n",
    "    # create list of files and with timestamps\n",
    "    ind2 = []\n",
    "    for file in filelist:\n",
    "        if file[-3:] == 'csv':\n",
    "            date = datetime.strptime(file.strip('.csv'), '%m-%d-%Y')\n",
    "            ind2.append(date)\n",
    "    ind2.sort()\n",
    "\n",
    "    #remove unecessary files\n",
    "    filelist.remove('README.md')\n",
    "    filelist.remove('.gitignore')\n",
    "    filelist.sort()\n",
    "\n",
    "    # now we need to find all possible countries in these files\n",
    "    # unfortunately this has been done in a non-consistent way by JHU\n",
    "    countries_set = set()\n",
    "\n",
    "    for file in filelist:\n",
    "        df_temp = pd.read_csv(file)\n",
    "        cols = []\n",
    "        for col in list(df_temp.columns):\n",
    "            cols.append(col.replace('/','_'))\n",
    "        df_temp.columns = cols\n",
    "        countries_set.update(list(df_temp['Country_Region']))\n",
    "\n",
    "    # list of countries\n",
    "    countries = list(countries_set)\n",
    "    countries.sort()\n",
    "    ind1 = countries\n",
    "\n",
    "    #double index with product country*date\n",
    "    iterables = [ind1,ind2]\n",
    "    double_ind = pd.MultiIndex.from_product(iterables, names=['Country','Date'])\n",
    "\n",
    "    # create double indexed dataframe filled with zeros\n",
    "    df_dd = pd.DataFrame(index=double_ind,columns=['Confirmed','Deaths','Recovered']).fillna(0)\n",
    "\n",
    "    # read files and update dataframe\n",
    "    for counter,file in enumerate(filelist):\n",
    "        df_temp = pd.read_csv(file)\n",
    "        cols = []\n",
    "        for col in list(df_temp.columns):\n",
    "            cols.append(col.replace('/','_'))\n",
    "        df_temp.columns = cols\n",
    "        df_temp = df_temp.groupby(['Country_Region']).sum() \n",
    "        x = [list(df_temp.index),[ind2[counter]]]\n",
    "        tr = pd.MultiIndex.from_product(x)\n",
    "        df_temp.index = tr\n",
    "        df_dd.loc[df_temp.index] = df_temp[['Confirmed','Deaths','Recovered']]\n",
    "        \n",
    "    return df_dd"
   ]
  },
  {
   "cell_type": "markdown",
   "metadata": {},
   "source": [
    "Now we have a huge table with a double index: (Country, Date). This should be all we need."
   ]
  },
  {
   "cell_type": "code",
   "execution_count": 19,
   "metadata": {},
   "outputs": [
    {
     "data": {
      "text/html": [
       "<div>\n",
       "<style scoped>\n",
       "    .dataframe tbody tr th:only-of-type {\n",
       "        vertical-align: middle;\n",
       "    }\n",
       "\n",
       "    .dataframe tbody tr th {\n",
       "        vertical-align: top;\n",
       "    }\n",
       "\n",
       "    .dataframe thead th {\n",
       "        text-align: right;\n",
       "    }\n",
       "</style>\n",
       "<table border=\"1\" class=\"dataframe\">\n",
       "  <thead>\n",
       "    <tr style=\"text-align: right;\">\n",
       "      <th></th>\n",
       "      <th></th>\n",
       "      <th>Confirmed</th>\n",
       "      <th>Deaths</th>\n",
       "      <th>Recovered</th>\n",
       "    </tr>\n",
       "    <tr>\n",
       "      <th>Country</th>\n",
       "      <th>Date</th>\n",
       "      <th></th>\n",
       "      <th></th>\n",
       "      <th></th>\n",
       "    </tr>\n",
       "  </thead>\n",
       "  <tbody>\n",
       "    <tr>\n",
       "      <th>Maldives</th>\n",
       "      <th>2020-04-07</th>\n",
       "      <td>19.0</td>\n",
       "      <td>0.0</td>\n",
       "      <td>13.0</td>\n",
       "    </tr>\n",
       "    <tr>\n",
       "      <th>Indonesia</th>\n",
       "      <th>2020-03-23</th>\n",
       "      <td>579.0</td>\n",
       "      <td>49.0</td>\n",
       "      <td>30.0</td>\n",
       "    </tr>\n",
       "    <tr>\n",
       "      <th>Faroe Islands</th>\n",
       "      <th>2020-04-03</th>\n",
       "      <td>0.0</td>\n",
       "      <td>0.0</td>\n",
       "      <td>0.0</td>\n",
       "    </tr>\n",
       "    <tr>\n",
       "      <th>Diamond Princess</th>\n",
       "      <th>2020-02-17</th>\n",
       "      <td>0.0</td>\n",
       "      <td>0.0</td>\n",
       "      <td>0.0</td>\n",
       "    </tr>\n",
       "    <tr>\n",
       "      <th>Jordan</th>\n",
       "      <th>2020-03-31</th>\n",
       "      <td>274.0</td>\n",
       "      <td>5.0</td>\n",
       "      <td>30.0</td>\n",
       "    </tr>\n",
       "    <tr>\n",
       "      <th>Cape Verde</th>\n",
       "      <th>2020-03-20</th>\n",
       "      <td>0.0</td>\n",
       "      <td>0.0</td>\n",
       "      <td>0.0</td>\n",
       "    </tr>\n",
       "    <tr>\n",
       "      <th>Venezuela</th>\n",
       "      <th>2020-02-06</th>\n",
       "      <td>0.0</td>\n",
       "      <td>0.0</td>\n",
       "      <td>0.0</td>\n",
       "    </tr>\n",
       "    <tr>\n",
       "      <th>Qatar</th>\n",
       "      <th>2020-02-22</th>\n",
       "      <td>0.0</td>\n",
       "      <td>0.0</td>\n",
       "      <td>0.0</td>\n",
       "    </tr>\n",
       "    <tr>\n",
       "      <th>Gambia</th>\n",
       "      <th>2020-03-10</th>\n",
       "      <td>0.0</td>\n",
       "      <td>0.0</td>\n",
       "      <td>0.0</td>\n",
       "    </tr>\n",
       "    <tr>\n",
       "      <th>Montenegro</th>\n",
       "      <th>2020-02-10</th>\n",
       "      <td>0.0</td>\n",
       "      <td>0.0</td>\n",
       "      <td>0.0</td>\n",
       "    </tr>\n",
       "  </tbody>\n",
       "</table>\n",
       "</div>"
      ],
      "text/plain": [
       "                             Confirmed  Deaths  Recovered\n",
       "Country          Date                                    \n",
       "Maldives         2020-04-07       19.0     0.0       13.0\n",
       "Indonesia        2020-03-23      579.0    49.0       30.0\n",
       "Faroe Islands    2020-04-03        0.0     0.0        0.0\n",
       "Diamond Princess 2020-02-17        0.0     0.0        0.0\n",
       "Jordan           2020-03-31      274.0     5.0       30.0\n",
       "Cape Verde       2020-03-20        0.0     0.0        0.0\n",
       "Venezuela        2020-02-06        0.0     0.0        0.0\n",
       "Qatar            2020-02-22        0.0     0.0        0.0\n",
       "Gambia           2020-03-10        0.0     0.0        0.0\n",
       "Montenegro       2020-02-10        0.0     0.0        0.0"
      ]
     },
     "execution_count": 19,
     "metadata": {},
     "output_type": "execute_result"
    }
   ],
   "source": [
    "df = read_files_dd()\n",
    "df.sample(10)"
   ]
  },
  {
   "cell_type": "markdown",
   "metadata": {},
   "source": [
    "# Plotting"
   ]
  },
  {
   "cell_type": "markdown",
   "metadata": {},
   "source": [
    "With this, we can access date on each level of the index. For example, for a specific country:"
   ]
  },
  {
   "cell_type": "code",
   "execution_count": 20,
   "metadata": {},
   "outputs": [
    {
     "data": {
      "text/plain": [
       "<matplotlib.axes._subplots.AxesSubplot at 0x7f8209ae9a58>"
      ]
     },
     "execution_count": 20,
     "metadata": {},
     "output_type": "execute_result"
    },
    {
     "data": {
      "image/png": "[encoded data removed]",
      "text/plain": [
       "<Figure size 432x288 with 1 Axes>"
      ]
     },
     "metadata": {
      "needs_background": "light"
     },
     "output_type": "display_data"
    }
   ],
   "source": [
    "df.xs('Brazil',level='Country')[['Confirmed','Deaths','Recovered']].plot(linewidth=3)"
   ]
  },
  {
   "cell_type": "markdown",
   "metadata": {},
   "source": [
    "Or for a specific date:"
   ]
  },
  {
   "cell_type": "code",
   "execution_count": 21,
   "metadata": {},
   "outputs": [],
   "source": [
    "x = pd.Timestamp(year=2020,month=4,day=8)"
   ]
  },
  {
   "cell_type": "code",
   "execution_count": 22,
   "metadata": {},
   "outputs": [
    {
     "data": {
      "text/plain": [
       "<matplotlib.axes._subplots.AxesSubplot at 0x7f820998be80>"
      ]
     },
     "execution_count": 22,
     "metadata": {},
     "output_type": "execute_result"
    },
    {
     "data": {
      "image/png": "[encoded data removed]",
      "text/plain": [
       "<Figure size 432x288 with 1 Axes>"
      ]
     },
     "metadata": {
      "needs_background": "light"
     },
     "output_type": "display_data"
    }
   ],
   "source": [
    "df.xs(x,level='Date').plot()"
   ]
  },
  {
   "cell_type": "markdown",
   "metadata": {},
   "source": [
    "Here it is obvious that a geographical map would be ideal."
   ]
  },
  {
   "cell_type": "markdown",
   "metadata": {},
   "source": [
    "# Geographical data"
   ]
  },
  {
   "cell_type": "code",
   "execution_count": 23,
   "metadata": {},
   "outputs": [],
   "source": [
    "import descartes\n",
    "import geopandas as gpd\n",
    "from shapely.geometry import Point, Polygon"
   ]
  },
  {
   "cell_type": "code",
   "execution_count": 24,
   "metadata": {},
   "outputs": [],
   "source": [
    "wmap = gpd.read_file('/home/babreu/Science/covid19/world_borders/TM_WORLD_BORDERS-0.3.shp')"
   ]
  },
  {
   "cell_type": "code",
   "execution_count": 25,
   "metadata": {},
   "outputs": [
    {
     "data": {
      "text/plain": [
       "<matplotlib.axes._subplots.AxesSubplot at 0x7f82018cb358>"
      ]
     },
     "execution_count": 25,
     "metadata": {},
     "output_type": "execute_result"
    },
    {
     "data": {
      "image/png": "[encoded data removed]",
      "text/plain": [
       "<Figure size 432x288 with 1 Axes>"
      ]
     },
     "metadata": {
      "needs_background": "light"
     },
     "output_type": "display_data"
    }
   ],
   "source": [
    "wmap.plot()"
   ]
  },
  {
   "cell_type": "code",
   "execution_count": 54,
   "metadata": {},
   "outputs": [],
   "source": [
    "from geopy.geocoders import Nominatim\n",
    "import numpy as np"
   ]
  },
  {
   "cell_type": "code",
   "execution_count": 73,
   "metadata": {},
   "outputs": [],
   "source": [
    "def geolocate(country = None):\n",
    "    \"\"\"\n",
    "    Returns lat/long coordinates of input country.\n",
    "    \"\"\"\n",
    "    geolocator = Nominatim()\n",
    "    try:\n",
    "        loc = geolocator.geocode(country)\n",
    "        return loc.latitude, loc.longitude\n",
    "    except:\n",
    "        return np.nan, np.nan"
   ]
  },
  {
   "cell_type": "code",
   "execution_count": 74,
   "metadata": {},
   "outputs": [],
   "source": [
    "x = pd.Timestamp(year=2020,month=4,day=8)   # pick a date\n",
    "tr = df.xs(x,level='Date')                  # slice dataframe for that date\n",
    "countries = list(tr.index)                  # extract countries"
   ]
  },
  {
   "cell_type": "code",
   "execution_count": 96,
   "metadata": {},
   "outputs": [
    {
     "name": "stderr",
     "output_type": "stream",
     "text": [
      "/home/babreu/anaconda3/lib/python3.7/site-packages/ipykernel_launcher.py:5: DeprecationWarning: Using Nominatim with the default \"geopy/1.21.0\" `user_agent` is strongly discouraged, as it violates Nominatim's ToS https://operations.osmfoundation.org/policies/nominatim/ and may possibly cause 403 and 429 HTTP errors. Please specify a custom `user_agent` with `Nominatim(user_agent=\"my-application\")` or by overriding the default `user_agent`: `geopy.geocoders.options.default_user_agent = \"my-application\"`. In geopy 2.0 this will become an exception.\n",
      "  \"\"\"\n"
     ]
    }
   ],
   "source": [
    "# find coordinates\n",
    "lats = []\n",
    "longs = []\n",
    "for country in countries:\n",
    "    lat,long = geolocate(country)\n",
    "    lats.append(lat)\n",
    "    longs.append(long)"
   ]
  },
  {
   "cell_type": "code",
   "execution_count": 98,
   "metadata": {},
   "outputs": [
    {
     "name": "stderr",
     "output_type": "stream",
     "text": [
      "/home/babreu/anaconda3/lib/python3.7/site-packages/ipykernel_launcher.py:2: SettingWithCopyWarning: \n",
      "A value is trying to be set on a copy of a slice from a DataFrame.\n",
      "Try using .loc[row_indexer,col_indexer] = value instead\n",
      "\n",
      "See the caveats in the documentation: http://pandas.pydata.org/pandas-docs/stable/indexing.html#indexing-view-versus-copy\n",
      "  \n",
      "/home/babreu/anaconda3/lib/python3.7/site-packages/ipykernel_launcher.py:3: SettingWithCopyWarning: \n",
      "A value is trying to be set on a copy of a slice from a DataFrame.\n",
      "Try using .loc[row_indexer,col_indexer] = value instead\n",
      "\n",
      "See the caveats in the documentation: http://pandas.pydata.org/pandas-docs/stable/indexing.html#indexing-view-versus-copy\n",
      "  This is separate from the ipykernel package so we can avoid doing imports until\n"
     ]
    }
   ],
   "source": [
    "# incorporate it to sliced dataframe\n",
    "tr['Latitude'] = lats\n",
    "tr['Longitude'] = longs"
   ]
  },
  {
   "cell_type": "code",
   "execution_count": 106,
   "metadata": {},
   "outputs": [],
   "source": [
    "# create geo data frame with points in position\n",
    "geometry = [Point(xy) for xy in zip(tr['Longitude'], tr['Latitude'])]\n",
    "\n",
    "crs = {'init': 'epsg:4326'}\n",
    "geo_df = gpd.GeoDataFrame(tr, crs = crs, geometry = geometry)"
   ]
  },
  {
   "cell_type": "code",
   "execution_count": 108,
   "metadata": {},
   "outputs": [
    {
     "data": {
      "text/html": [
       "<div>\n",
       "<style scoped>\n",
       "    .dataframe tbody tr th:only-of-type {\n",
       "        vertical-align: middle;\n",
       "    }\n",
       "\n",
       "    .dataframe tbody tr th {\n",
       "        vertical-align: top;\n",
       "    }\n",
       "\n",
       "    .dataframe thead th {\n",
       "        text-align: right;\n",
       "    }\n",
       "</style>\n",
       "<table border=\"1\" class=\"dataframe\">\n",
       "  <thead>\n",
       "    <tr style=\"text-align: right;\">\n",
       "      <th></th>\n",
       "      <th>Confirmed</th>\n",
       "      <th>Deaths</th>\n",
       "      <th>Recovered</th>\n",
       "      <th>Latitude</th>\n",
       "      <th>Longitude</th>\n",
       "      <th>geometry</th>\n",
       "    </tr>\n",
       "    <tr>\n",
       "      <th>Country</th>\n",
       "      <th></th>\n",
       "      <th></th>\n",
       "      <th></th>\n",
       "      <th></th>\n",
       "      <th></th>\n",
       "      <th></th>\n",
       "    </tr>\n",
       "  </thead>\n",
       "  <tbody>\n",
       "    <tr>\n",
       "      <th>Azerbaijan</th>\n",
       "      <td>0.0</td>\n",
       "      <td>0.0</td>\n",
       "      <td>0.0</td>\n",
       "      <td>40.393629</td>\n",
       "      <td>47.787251</td>\n",
       "      <td>POINT (47.78725 40.39363)</td>\n",
       "    </tr>\n",
       "    <tr>\n",
       "      <th>Afghanistan</th>\n",
       "      <td>444.0</td>\n",
       "      <td>14.0</td>\n",
       "      <td>29.0</td>\n",
       "      <td>33.768006</td>\n",
       "      <td>66.238514</td>\n",
       "      <td>POINT (66.23851 33.76801)</td>\n",
       "    </tr>\n",
       "    <tr>\n",
       "      <th>Albania</th>\n",
       "      <td>400.0</td>\n",
       "      <td>22.0</td>\n",
       "      <td>154.0</td>\n",
       "      <td>41.000028</td>\n",
       "      <td>19.999962</td>\n",
       "      <td>POINT (19.99996 41.00003)</td>\n",
       "    </tr>\n",
       "    <tr>\n",
       "      <th>Algeria</th>\n",
       "      <td>1572.0</td>\n",
       "      <td>205.0</td>\n",
       "      <td>237.0</td>\n",
       "      <td>28.000027</td>\n",
       "      <td>2.999983</td>\n",
       "      <td>POINT (2.99998 28.00003)</td>\n",
       "    </tr>\n",
       "    <tr>\n",
       "      <th>Andorra</th>\n",
       "      <td>564.0</td>\n",
       "      <td>23.0</td>\n",
       "      <td>52.0</td>\n",
       "      <td>42.540717</td>\n",
       "      <td>1.573203</td>\n",
       "      <td>POINT (1.57320 42.54072)</td>\n",
       "    </tr>\n",
       "  </tbody>\n",
       "</table>\n",
       "</div>"
      ],
      "text/plain": [
       "             Confirmed  Deaths  Recovered   Latitude  Longitude  \\\n",
       "Country                                                           \n",
       " Azerbaijan        0.0     0.0        0.0  40.393629  47.787251   \n",
       "Afghanistan      444.0    14.0       29.0  33.768006  66.238514   \n",
       "Albania          400.0    22.0      154.0  41.000028  19.999962   \n",
       "Algeria         1572.0   205.0      237.0  28.000027   2.999983   \n",
       "Andorra          564.0    23.0       52.0  42.540717   1.573203   \n",
       "\n",
       "                              geometry  \n",
       "Country                                 \n",
       " Azerbaijan  POINT (47.78725 40.39363)  \n",
       "Afghanistan  POINT (66.23851 33.76801)  \n",
       "Albania      POINT (19.99996 41.00003)  \n",
       "Algeria       POINT (2.99998 28.00003)  \n",
       "Andorra       POINT (1.57320 42.54072)  "
      ]
     },
     "execution_count": 108,
     "metadata": {},
     "output_type": "execute_result"
    }
   ],
   "source": [
    "geo_df.head()"
   ]
  },
  {
   "cell_type": "code",
   "execution_count": 110,
   "metadata": {},
   "outputs": [
    {
     "data": {
      "text/plain": [
       "<matplotlib.axes._subplots.AxesSubplot at 0x7f81ffd1dcc0>"
      ]
     },
     "execution_count": 110,
     "metadata": {},
     "output_type": "execute_result"
    },
    {
     "data": {
      "image/png": "[encoded data removed]",
      "text/plain": [
       "<Figure size 432x288 with 1 Axes>"
      ]
     },
     "metadata": {
      "needs_background": "light"
     },
     "output_type": "display_data"
    }
   ],
   "source": [
    "# plot \n",
    "fig, ax = plt.subplots()\n",
    "wmap.plot(ax = ax, alpha=0.4, color='grey')\n",
    "geo_df.plot(ax=ax)"
   ]
  },
  {
   "cell_type": "code",
   "execution_count": null,
   "metadata": {},
   "outputs": [],
   "source": []
  }
 ],
 "metadata": {
  "kernelspec": {
   "display_name": "Python 3",
   "language": "python",
   "name": "python3"
  },
  "language_info": {
   "codemirror_mode": {
    "name": "ipython",
    "version": 3
   },
   "file_extension": ".py",
   "mimetype": "text/x-python",
   "name": "python",
   "nbconvert_exporter": "python",
   "pygments_lexer": "ipython3",
   "version": "3.7.3"
  }
 },
 "nbformat": 4,
 "nbformat_minor": 2
}
