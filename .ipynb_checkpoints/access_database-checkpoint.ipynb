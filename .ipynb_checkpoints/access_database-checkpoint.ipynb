{
 "cells": [
  {
   "cell_type": "markdown",
   "metadata": {},
   "source": [
    "# Downloading data base\n",
    "\n",
    "This notebook is created to access the 2019 Novel Coronavirus COVID-19 (2019-nCoV) Data Repository by Johns Hopkins CSSE, which can be found here: https://github.com/CSSEGISandData/COVID-19\n",
    "\n",
    "Written by Bruno Abreu, April 2020\n",
    "as part of the Racionalidade Cientifica initiative."
   ]
  },
  {
   "cell_type": "code",
   "execution_count": 1,
   "metadata": {},
   "outputs": [],
   "source": [
    "import sys\n",
    "import os\n",
    "import pandas as pd"
   ]
  },
  {
   "cell_type": "code",
   "execution_count": 2,
   "metadata": {},
   "outputs": [],
   "source": [
    "global repo_path\n",
    "repo_path = \"/home/babreu/Science/covid19/repo\""
   ]
  },
  {
   "cell_type": "code",
   "execution_count": 3,
   "metadata": {},
   "outputs": [],
   "source": [
    "def update_repo():\n",
    "    \"\"\"\n",
    "    This should clone the data base to your working directory. Make sure to correct the file path, as well as \n",
    "    make sure to run this function before doing analysis so that you get all of the available data.\n",
    "    \"\"\"\n",
    "    pull = \"git pull https://github.com/CSSEGISandData/COVID-19.git\"\n",
    "    os.chdir(repo_path) \n",
    "    os.system(pull)\n",
    "\n"
   ]
  },
  {
   "cell_type": "markdown",
   "metadata": {},
   "source": [
    "# Reading files: temporal series"
   ]
  },
  {
   "cell_type": "code",
   "execution_count": 4,
   "metadata": {},
   "outputs": [],
   "source": [
    "def read_files_ts():\n",
    "    \"\"\"\n",
    "    Function to read the CSV files with temporal series and place them into pandas dataframes. \n",
    "    It will return 3 data frames.\n",
    "    \"\"\"\n",
    "    update_repo()\n",
    "    \n",
    "    file = repo_path + \"/csse_covid_19_data/csse_covid_19_time_series/time_series_covid19_confirmed_global.csv\" \n",
    "    df_cases = pd.read_csv(file)\n",
    "    \n",
    "    file = repo_path + \"/csse_covid_19_data/csse_covid_19_time_series/time_series_covid19_deaths_global.csv\" \n",
    "    df_deaths = pd.read_csv(file)\n",
    "    \n",
    "    file = repo_path + \"/csse_covid_19_data/csse_covid_19_time_series/time_series_covid19_recovered_global.csv\" \n",
    "    df_recovs = pd.read_csv(file)\n",
    "    \n",
    "    return df_cases, df_deaths, df_recovs"
   ]
  },
  {
   "cell_type": "code",
   "execution_count": 5,
   "metadata": {},
   "outputs": [],
   "source": [
    "df_c,df_d,df_r = read_files_ts()"
   ]
  },
  {
   "cell_type": "code",
   "execution_count": 6,
   "metadata": {},
   "outputs": [
    {
     "data": {
      "text/html": [
       "<div>\n",
       "<style scoped>\n",
       "    .dataframe tbody tr th:only-of-type {\n",
       "        vertical-align: middle;\n",
       "    }\n",
       "\n",
       "    .dataframe tbody tr th {\n",
       "        vertical-align: top;\n",
       "    }\n",
       "\n",
       "    .dataframe thead th {\n",
       "        text-align: right;\n",
       "    }\n",
       "</style>\n",
       "<table border=\"1\" class=\"dataframe\">\n",
       "  <thead>\n",
       "    <tr style=\"text-align: right;\">\n",
       "      <th></th>\n",
       "      <th>Province/State</th>\n",
       "      <th>Country/Region</th>\n",
       "      <th>Lat</th>\n",
       "      <th>Long</th>\n",
       "      <th>1/22/20</th>\n",
       "      <th>1/23/20</th>\n",
       "      <th>1/24/20</th>\n",
       "      <th>1/25/20</th>\n",
       "      <th>1/26/20</th>\n",
       "      <th>1/27/20</th>\n",
       "      <th>...</th>\n",
       "      <th>3/30/20</th>\n",
       "      <th>3/31/20</th>\n",
       "      <th>4/1/20</th>\n",
       "      <th>4/2/20</th>\n",
       "      <th>4/3/20</th>\n",
       "      <th>4/4/20</th>\n",
       "      <th>4/5/20</th>\n",
       "      <th>4/6/20</th>\n",
       "      <th>4/7/20</th>\n",
       "      <th>4/8/20</th>\n",
       "    </tr>\n",
       "  </thead>\n",
       "  <tbody>\n",
       "    <tr>\n",
       "      <th>181</th>\n",
       "      <td>NaN</td>\n",
       "      <td>Peru</td>\n",
       "      <td>-9.1900</td>\n",
       "      <td>-75.0152</td>\n",
       "      <td>0</td>\n",
       "      <td>0</td>\n",
       "      <td>0</td>\n",
       "      <td>0</td>\n",
       "      <td>0</td>\n",
       "      <td>0</td>\n",
       "      <td>...</td>\n",
       "      <td>950</td>\n",
       "      <td>1065</td>\n",
       "      <td>1323</td>\n",
       "      <td>1414</td>\n",
       "      <td>1595</td>\n",
       "      <td>1746</td>\n",
       "      <td>2281</td>\n",
       "      <td>2561</td>\n",
       "      <td>2954</td>\n",
       "      <td>4342</td>\n",
       "    </tr>\n",
       "    <tr>\n",
       "      <th>33</th>\n",
       "      <td>NaN</td>\n",
       "      <td>Cambodia</td>\n",
       "      <td>11.5500</td>\n",
       "      <td>104.9167</td>\n",
       "      <td>0</td>\n",
       "      <td>0</td>\n",
       "      <td>0</td>\n",
       "      <td>0</td>\n",
       "      <td>0</td>\n",
       "      <td>1</td>\n",
       "      <td>...</td>\n",
       "      <td>107</td>\n",
       "      <td>109</td>\n",
       "      <td>109</td>\n",
       "      <td>110</td>\n",
       "      <td>114</td>\n",
       "      <td>114</td>\n",
       "      <td>114</td>\n",
       "      <td>114</td>\n",
       "      <td>115</td>\n",
       "      <td>117</td>\n",
       "    </tr>\n",
       "    <tr>\n",
       "      <th>40</th>\n",
       "      <td>Newfoundland and Labrador</td>\n",
       "      <td>Canada</td>\n",
       "      <td>53.1355</td>\n",
       "      <td>-57.6604</td>\n",
       "      <td>0</td>\n",
       "      <td>0</td>\n",
       "      <td>0</td>\n",
       "      <td>0</td>\n",
       "      <td>0</td>\n",
       "      <td>0</td>\n",
       "      <td>...</td>\n",
       "      <td>148</td>\n",
       "      <td>152</td>\n",
       "      <td>175</td>\n",
       "      <td>183</td>\n",
       "      <td>195</td>\n",
       "      <td>195</td>\n",
       "      <td>217</td>\n",
       "      <td>226</td>\n",
       "      <td>228</td>\n",
       "      <td>228</td>\n",
       "    </tr>\n",
       "    <tr>\n",
       "      <th>219</th>\n",
       "      <td>Channel Islands</td>\n",
       "      <td>United Kingdom</td>\n",
       "      <td>49.3723</td>\n",
       "      <td>-2.3644</td>\n",
       "      <td>0</td>\n",
       "      <td>0</td>\n",
       "      <td>0</td>\n",
       "      <td>0</td>\n",
       "      <td>0</td>\n",
       "      <td>0</td>\n",
       "      <td>...</td>\n",
       "      <td>141</td>\n",
       "      <td>141</td>\n",
       "      <td>172</td>\n",
       "      <td>193</td>\n",
       "      <td>232</td>\n",
       "      <td>262</td>\n",
       "      <td>309</td>\n",
       "      <td>323</td>\n",
       "      <td>335</td>\n",
       "      <td>351</td>\n",
       "    </tr>\n",
       "    <tr>\n",
       "      <th>7</th>\n",
       "      <td>NaN</td>\n",
       "      <td>Armenia</td>\n",
       "      <td>40.0691</td>\n",
       "      <td>45.0382</td>\n",
       "      <td>0</td>\n",
       "      <td>0</td>\n",
       "      <td>0</td>\n",
       "      <td>0</td>\n",
       "      <td>0</td>\n",
       "      <td>0</td>\n",
       "      <td>...</td>\n",
       "      <td>482</td>\n",
       "      <td>532</td>\n",
       "      <td>571</td>\n",
       "      <td>663</td>\n",
       "      <td>736</td>\n",
       "      <td>770</td>\n",
       "      <td>822</td>\n",
       "      <td>833</td>\n",
       "      <td>853</td>\n",
       "      <td>881</td>\n",
       "    </tr>\n",
       "  </tbody>\n",
       "</table>\n",
       "<p>5 rows × 82 columns</p>\n",
       "</div>"
      ],
      "text/plain": [
       "                Province/State  Country/Region      Lat      Long  1/22/20  \\\n",
       "181                        NaN            Peru  -9.1900  -75.0152        0   \n",
       "33                         NaN        Cambodia  11.5500  104.9167        0   \n",
       "40   Newfoundland and Labrador          Canada  53.1355  -57.6604        0   \n",
       "219            Channel Islands  United Kingdom  49.3723   -2.3644        0   \n",
       "7                          NaN         Armenia  40.0691   45.0382        0   \n",
       "\n",
       "     1/23/20  1/24/20  1/25/20  1/26/20  1/27/20  ...  3/30/20  3/31/20  \\\n",
       "181        0        0        0        0        0  ...      950     1065   \n",
       "33         0        0        0        0        1  ...      107      109   \n",
       "40         0        0        0        0        0  ...      148      152   \n",
       "219        0        0        0        0        0  ...      141      141   \n",
       "7          0        0        0        0        0  ...      482      532   \n",
       "\n",
       "     4/1/20  4/2/20  4/3/20  4/4/20  4/5/20  4/6/20  4/7/20  4/8/20  \n",
       "181    1323    1414    1595    1746    2281    2561    2954    4342  \n",
       "33      109     110     114     114     114     114     115     117  \n",
       "40      175     183     195     195     217     226     228     228  \n",
       "219     172     193     232     262     309     323     335     351  \n",
       "7       571     663     736     770     822     833     853     881  \n",
       "\n",
       "[5 rows x 82 columns]"
      ]
     },
     "execution_count": 6,
     "metadata": {},
     "output_type": "execute_result"
    }
   ],
   "source": [
    "df_c.sample(5)"
   ]
  },
  {
   "cell_type": "markdown",
   "metadata": {},
   "source": [
    "## Cleaning data"
   ]
  },
  {
   "cell_type": "code",
   "execution_count": 7,
   "metadata": {},
   "outputs": [],
   "source": [
    "from datetime import datetime      #having a nicer index format so graphs look cool"
   ]
  },
  {
   "cell_type": "code",
   "execution_count": 8,
   "metadata": {},
   "outputs": [],
   "source": [
    "df_c = df_c.T                     #using transpose of data frame\n",
    "\n",
    "df_c.fillna('',inplace=True)      #droping NaNs\n",
    " \n",
    "x1 = []                            #putting together state and country                        \n",
    "for i in range(df_c.shape[1]):\n",
    "    if df_c.iloc[0][i] == '':\n",
    "        y = df_c.iloc[1][i]\n",
    "    else:\n",
    "        y = df_c.iloc[0][i] + ', ' + df_c.iloc[1][i]\n",
    "    x1.append(y)\n",
    "    \n",
    "df_c.columns = x1\n",
    "\n",
    "df_c.drop(index=['Province/State','Country/Region','Lat', 'Long'],inplace=True)       #droping geography, keeping only dates\n",
    "  \n",
    "\n",
    "x2 = []                             #turning index into datetime format\n",
    "for i in range(len(df_c.index)):\n",
    "    y = df_c.index[i]\n",
    "    z = datetime.strptime(y, '%m/%d/%y')\n",
    "    x2.append(z)\n",
    "\n",
    "df_c.index = x2"
   ]
  },
  {
   "cell_type": "code",
   "execution_count": 9,
   "metadata": {},
   "outputs": [],
   "source": [
    "df_d = df_d.T\n",
    "df_d.fillna('',inplace=True) \n",
    "x1 = []                     \n",
    "for i in range(df_d.shape[1]):\n",
    "    if df_d.iloc[0][i] == '':\n",
    "        y = df_d.iloc[1][i]\n",
    "    else:\n",
    "        y = df_d.iloc[0][i] + ', ' + df_d.iloc[1][i]\n",
    "    x1.append(y)\n",
    "df_d.columns = x1\n",
    "df_d.drop(index=['Province/State','Country/Region','Lat', 'Long'],inplace=True)\n",
    "x2 = []\n",
    "for i in range(len(df_d.index)):\n",
    "    y = df_d.index[i]\n",
    "    z = datetime.strptime(y, '%m/%d/%y')\n",
    "    x2.append(z)\n",
    "df_d.index = x2"
   ]
  },
  {
   "cell_type": "code",
   "execution_count": 10,
   "metadata": {},
   "outputs": [],
   "source": [
    "df_r = df_r.T\n",
    "df_r.fillna('',inplace=True) \n",
    "x1 = []                     \n",
    "for i in range(df_r.shape[1]):\n",
    "    if df_r.iloc[0][i] == '':\n",
    "        y = df_r.iloc[1][i]\n",
    "    else:\n",
    "        y = df_r.iloc[0][i] + ', ' + df_r.iloc[1][i]\n",
    "    x1.append(y)\n",
    "df_r.columns = x1\n",
    "df_r.drop(index=['Province/State','Country/Region','Lat', 'Long'],inplace=True)\n",
    "x2 = []\n",
    "for i in range(len(df_r.index)):\n",
    "    y = df_r.index[i]\n",
    "    z = datetime.strptime(y, '%m/%d/%y')\n",
    "    x2.append(z)\n",
    "df_r.index = x2"
   ]
  },
  {
   "cell_type": "markdown",
   "metadata": {},
   "source": [
    "Now we have a way to look at specific countries/regions:"
   ]
  },
  {
   "cell_type": "code",
   "execution_count": 11,
   "metadata": {},
   "outputs": [
    {
     "data": {
      "text/plain": [
       "2020-02-05     0\n",
       "2020-02-18     0\n",
       "2020-01-30     0\n",
       "2020-03-25    59\n",
       "2020-02-21     0\n",
       "Name: Brazil, dtype: object"
      ]
     },
     "execution_count": 11,
     "metadata": {},
     "output_type": "execute_result"
    }
   ],
   "source": [
    "df_d['Brazil'].sample(5)"
   ]
  },
  {
   "cell_type": "markdown",
   "metadata": {},
   "source": [
    "### Separating by country, viz. disregarding regions --- TO DO\n",
    "\n",
    "For local analysis it could be important to have data split into province/state, but for a global analysis that doesn't matter much. Plus, some countries are still not releasing that much granular data. So we could group these."
   ]
  },
  {
   "cell_type": "markdown",
   "metadata": {},
   "source": [
    "## Framing BRAZIL"
   ]
  },
  {
   "cell_type": "code",
   "execution_count": 12,
   "metadata": {},
   "outputs": [],
   "source": [
    "brazil = pd.DataFrame(index=df_c.index)\n",
    "brazil['Cases'] = df_c['Brazil']\n",
    "brazil['Deaths'] = df_d['Brazil']\n",
    "brazil['Recovered'] = df_r['Brazil']"
   ]
  },
  {
   "cell_type": "code",
   "execution_count": 13,
   "metadata": {},
   "outputs": [
    {
     "data": {
      "text/html": [
       "<div>\n",
       "<style scoped>\n",
       "    .dataframe tbody tr th:only-of-type {\n",
       "        vertical-align: middle;\n",
       "    }\n",
       "\n",
       "    .dataframe tbody tr th {\n",
       "        vertical-align: top;\n",
       "    }\n",
       "\n",
       "    .dataframe thead th {\n",
       "        text-align: right;\n",
       "    }\n",
       "</style>\n",
       "<table border=\"1\" class=\"dataframe\">\n",
       "  <thead>\n",
       "    <tr style=\"text-align: right;\">\n",
       "      <th></th>\n",
       "      <th>Cases</th>\n",
       "      <th>Deaths</th>\n",
       "      <th>Recovered</th>\n",
       "    </tr>\n",
       "  </thead>\n",
       "  <tbody>\n",
       "    <tr>\n",
       "      <th>2020-03-29</th>\n",
       "      <td>4256</td>\n",
       "      <td>136</td>\n",
       "      <td>6</td>\n",
       "    </tr>\n",
       "    <tr>\n",
       "      <th>2020-04-05</th>\n",
       "      <td>11130</td>\n",
       "      <td>486</td>\n",
       "      <td>127</td>\n",
       "    </tr>\n",
       "    <tr>\n",
       "      <th>2020-03-19</th>\n",
       "      <td>621</td>\n",
       "      <td>6</td>\n",
       "      <td>2</td>\n",
       "    </tr>\n",
       "  </tbody>\n",
       "</table>\n",
       "</div>"
      ],
      "text/plain": [
       "            Cases Deaths Recovered\n",
       "2020-03-29   4256    136         6\n",
       "2020-04-05  11130    486       127\n",
       "2020-03-19    621      6         2"
      ]
     },
     "execution_count": 13,
     "metadata": {},
     "output_type": "execute_result"
    }
   ],
   "source": [
    "brazil.sample(3)"
   ]
  },
  {
   "cell_type": "markdown",
   "metadata": {},
   "source": [
    "# Plotting"
   ]
  },
  {
   "cell_type": "code",
   "execution_count": 14,
   "metadata": {},
   "outputs": [],
   "source": [
    "import matplotlib.pyplot as plt \n",
    "plt.show()"
   ]
  },
  {
   "cell_type": "code",
   "execution_count": 15,
   "metadata": {},
   "outputs": [
    {
     "data": {
      "text/plain": [
       "Text(0, 0.5, 'Number of cases')"
      ]
     },
     "execution_count": 15,
     "metadata": {},
     "output_type": "execute_result"
    },
    {
     "data": {
      "image/png": "[encoded data removed]",
      "text/plain": [
       "<Figure size 432x288 with 1 Axes>"
      ]
     },
     "metadata": {
      "needs_background": "light"
     },
     "output_type": "display_data"
    }
   ],
   "source": [
    "df_c[['Brazil','Italy', 'US','Spain']].plot(linewidth=3)\n",
    "plt.ylabel('Number of cases') "
   ]
  },
  {
   "cell_type": "code",
   "execution_count": 16,
   "metadata": {},
   "outputs": [
    {
     "data": {
      "text/plain": [
       "<matplotlib.axes._subplots.AxesSubplot at 0x7f50ba866da0>"
      ]
     },
     "execution_count": 16,
     "metadata": {},
     "output_type": "execute_result"
    },
    {
     "data": {
      "image/png": "[encoded data removed]",
      "text/plain": [
       "<Figure size 432x288 with 1 Axes>"
      ]
     },
     "metadata": {
      "needs_background": "light"
     },
     "output_type": "display_data"
    }
   ],
   "source": [
    "brazil.plot(kind='line',linewidth=4,title='Brazil numbers')"
   ]
  },
  {
   "cell_type": "code",
   "execution_count": 17,
   "metadata": {},
   "outputs": [
    {
     "data": {
      "text/plain": [
       "<matplotlib.axes._subplots.AxesSubplot at 0x7f50ba729940>"
      ]
     },
     "execution_count": 17,
     "metadata": {},
     "output_type": "execute_result"
    },
    {
     "data": {
      "image/png": "[encoded data removed]",
      "text/plain": [
       "<Figure size 432x288 with 1 Axes>"
      ]
     },
     "metadata": {
      "needs_background": "light"
     },
     "output_type": "display_data"
    }
   ],
   "source": [
    "brazil.plot(kind='line',linewidth=4,logy=True,title='Brazil numbers')"
   ]
  },
  {
   "cell_type": "markdown",
   "metadata": {},
   "source": [
    "# Reading files: daily data"
   ]
  },
  {
   "cell_type": "code",
   "execution_count": 18,
   "metadata": {},
   "outputs": [],
   "source": [
    "def read_files_dd():\n",
    "    \"\"\"\n",
    "    This function will read the daily reports files and return a double-indexed dataframe with the external\n",
    "    layer representing the Country and the internal layer representing the date.\n",
    "    \"\"\"\n",
    "    update_repo()\n",
    "\n",
    "    # path to folder\n",
    "    dd_path = repo_path + \"/csse_covid_19_data/csse_covid_19_daily_reports\"\n",
    "    os.chdir(dd_path)\n",
    "    filelist = os.listdir()\n",
    "\n",
    "    # create list of files and with timestamps\n",
    "    ind2 = []\n",
    "    for file in filelist:\n",
    "        if file[-3:] == 'csv':\n",
    "            date = datetime.strptime(file.strip('.csv'), '%m-%d-%Y')\n",
    "            ind2.append(date)\n",
    "    ind2.sort()\n",
    "\n",
    "    #remove unecessary files\n",
    "    filelist.remove('README.md')\n",
    "    filelist.remove('.gitignore')\n",
    "    filelist.sort()\n",
    "\n",
    "    # now we need to find all possible countries in these files\n",
    "    # unfortunately this has been done in a non-consistent way by JHU\n",
    "    countries_set = set()\n",
    "\n",
    "    for file in filelist:\n",
    "        df_temp = pd.read_csv(file)\n",
    "        cols = []\n",
    "        for col in list(df_temp.columns):\n",
    "            cols.append(col.replace('/','_'))\n",
    "        df_temp.columns = cols\n",
    "        countries_set.update(list(df_temp['Country_Region']))\n",
    "\n",
    "    # list of countries\n",
    "    countries = list(countries_set)\n",
    "    countries.sort()\n",
    "    ind1 = countries\n",
    "\n",
    "    #double index with product country*date\n",
    "    iterables = [ind1,ind2]\n",
    "    double_ind = pd.MultiIndex.from_product(iterables, names=['Country','Date'])\n",
    "\n",
    "    # create double indexed dataframe filled with zeros\n",
    "    df_dd = pd.DataFrame(index=double_ind,columns=['Confirmed','Deaths','Recovered']).fillna(0)\n",
    "\n",
    "    # read files and update dataframe\n",
    "    for counter,file in enumerate(filelist):\n",
    "        df_temp = pd.read_csv(file)\n",
    "        cols = []\n",
    "        for col in list(df_temp.columns):\n",
    "            cols.append(col.replace('/','_'))\n",
    "        df_temp.columns = cols\n",
    "        df_temp = df_temp.groupby(['Country_Region']).sum() \n",
    "        x = [list(df_temp.index),[ind2[counter]]]\n",
    "        tr = pd.MultiIndex.from_product(x)\n",
    "        df_temp.index = tr\n",
    "        df_dd.loc[df_temp.index] = df_temp[['Confirmed','Deaths','Recovered']]\n",
    "        \n",
    "    return df_dd"
   ]
  },
  {
   "cell_type": "markdown",
   "metadata": {},
   "source": [
    "Now we have a huge table with a double index: (Country, Date). This should be all we need."
   ]
  },
  {
   "cell_type": "code",
   "execution_count": 19,
   "metadata": {},
   "outputs": [
    {
     "data": {
      "text/html": [
       "<div>\n",
       "<style scoped>\n",
       "    .dataframe tbody tr th:only-of-type {\n",
       "        vertical-align: middle;\n",
       "    }\n",
       "\n",
       "    .dataframe tbody tr th {\n",
       "        vertical-align: top;\n",
       "    }\n",
       "\n",
       "    .dataframe thead th {\n",
       "        text-align: right;\n",
       "    }\n",
       "</style>\n",
       "<table border=\"1\" class=\"dataframe\">\n",
       "  <thead>\n",
       "    <tr style=\"text-align: right;\">\n",
       "      <th></th>\n",
       "      <th></th>\n",
       "      <th>Confirmed</th>\n",
       "      <th>Deaths</th>\n",
       "      <th>Recovered</th>\n",
       "    </tr>\n",
       "    <tr>\n",
       "      <th>Country</th>\n",
       "      <th>Date</th>\n",
       "      <th></th>\n",
       "      <th></th>\n",
       "      <th></th>\n",
       "    </tr>\n",
       "  </thead>\n",
       "  <tbody>\n",
       "    <tr>\n",
       "      <th>Barbados</th>\n",
       "      <th>2020-04-08</th>\n",
       "      <td>63.0</td>\n",
       "      <td>3.0</td>\n",
       "      <td>8.0</td>\n",
       "    </tr>\n",
       "    <tr>\n",
       "      <th>Ethiopia</th>\n",
       "      <th>2020-03-23</th>\n",
       "      <td>11.0</td>\n",
       "      <td>0.0</td>\n",
       "      <td>0.0</td>\n",
       "    </tr>\n",
       "    <tr>\n",
       "      <th>Guam</th>\n",
       "      <th>2020-02-01</th>\n",
       "      <td>0.0</td>\n",
       "      <td>0.0</td>\n",
       "      <td>0.0</td>\n",
       "    </tr>\n",
       "    <tr>\n",
       "      <th>Mainland China</th>\n",
       "      <th>2020-03-04</th>\n",
       "      <td>80271.0</td>\n",
       "      <td>2981.0</td>\n",
       "      <td>49955.0</td>\n",
       "    </tr>\n",
       "    <tr>\n",
       "      <th>Czechia</th>\n",
       "      <th>2020-02-08</th>\n",
       "      <td>0.0</td>\n",
       "      <td>0.0</td>\n",
       "      <td>0.0</td>\n",
       "    </tr>\n",
       "    <tr>\n",
       "      <th>Benin</th>\n",
       "      <th>2020-03-06</th>\n",
       "      <td>0.0</td>\n",
       "      <td>0.0</td>\n",
       "      <td>0.0</td>\n",
       "    </tr>\n",
       "    <tr>\n",
       "      <th>Sierra Leone</th>\n",
       "      <th>2020-03-21</th>\n",
       "      <td>0.0</td>\n",
       "      <td>0.0</td>\n",
       "      <td>0.0</td>\n",
       "    </tr>\n",
       "    <tr>\n",
       "      <th>Iran (Islamic Republic of)</th>\n",
       "      <th>2020-02-07</th>\n",
       "      <td>0.0</td>\n",
       "      <td>0.0</td>\n",
       "      <td>0.0</td>\n",
       "    </tr>\n",
       "    <tr>\n",
       "      <th>Algeria</th>\n",
       "      <th>2020-02-20</th>\n",
       "      <td>0.0</td>\n",
       "      <td>0.0</td>\n",
       "      <td>0.0</td>\n",
       "    </tr>\n",
       "    <tr>\n",
       "      <th>Ghana</th>\n",
       "      <th>2020-03-14</th>\n",
       "      <td>3.0</td>\n",
       "      <td>0.0</td>\n",
       "      <td>0.0</td>\n",
       "    </tr>\n",
       "  </tbody>\n",
       "</table>\n",
       "</div>"
      ],
      "text/plain": [
       "                                       Confirmed  Deaths  Recovered\n",
       "Country                    Date                                    \n",
       "Barbados                   2020-04-08       63.0     3.0        8.0\n",
       "Ethiopia                   2020-03-23       11.0     0.0        0.0\n",
       "Guam                       2020-02-01        0.0     0.0        0.0\n",
       "Mainland China             2020-03-04    80271.0  2981.0    49955.0\n",
       "Czechia                    2020-02-08        0.0     0.0        0.0\n",
       "Benin                      2020-03-06        0.0     0.0        0.0\n",
       "Sierra Leone               2020-03-21        0.0     0.0        0.0\n",
       "Iran (Islamic Republic of) 2020-02-07        0.0     0.0        0.0\n",
       "Algeria                    2020-02-20        0.0     0.0        0.0\n",
       "Ghana                      2020-03-14        3.0     0.0        0.0"
      ]
     },
     "execution_count": 19,
     "metadata": {},
     "output_type": "execute_result"
    }
   ],
   "source": [
    "df = read_files_dd()\n",
    "df.sample(10)"
   ]
  },
  {
   "cell_type": "markdown",
   "metadata": {},
   "source": [
    "# Plotting"
   ]
  },
  {
   "cell_type": "markdown",
   "metadata": {},
   "source": [
    "With this, we can access date on each level of the index. For example, for a specific country:"
   ]
  },
  {
   "cell_type": "code",
   "execution_count": 21,
   "metadata": {},
   "outputs": [
    {
     "data": {
      "text/plain": [
       "<matplotlib.axes._subplots.AxesSubplot at 0x7f50ba49c390>"
      ]
     },
     "execution_count": 21,
     "metadata": {},
     "output_type": "execute_result"
    },
    {
     "data": {
      "image/png": "[encoded data removed]",
      "text/plain": [
       "<Figure size 432x288 with 1 Axes>"
      ]
     },
     "metadata": {
      "needs_background": "light"
     },
     "output_type": "display_data"
    }
   ],
   "source": [
    "df.xs('Brazil',level='Country')[['Confirmed','Deaths','Recovered']].plot(linewidth=3)"
   ]
  },
  {
   "cell_type": "markdown",
   "metadata": {},
   "source": [
    "Or for a specific date:"
   ]
  },
  {
   "cell_type": "code",
   "execution_count": 22,
   "metadata": {},
   "outputs": [],
   "source": [
    "x = pd.Timestamp(year=2020,month=4,day=8)"
   ]
  },
  {
   "cell_type": "code",
   "execution_count": 24,
   "metadata": {},
   "outputs": [
    {
     "data": {
      "text/plain": [
       "<matplotlib.axes._subplots.AxesSubplot at 0x7f50ba13df98>"
      ]
     },
     "execution_count": 24,
     "metadata": {},
     "output_type": "execute_result"
    },
    {
     "data": {
      "image/png": "[encoded data removed]",
      "text/plain": [
       "<Figure size 432x288 with 1 Axes>"
      ]
     },
     "metadata": {
      "needs_background": "light"
     },
     "output_type": "display_data"
    }
   ],
   "source": [
    "df.xs(x,level='Date').plot()"
   ]
  },
  {
   "cell_type": "markdown",
   "metadata": {},
   "source": [
    "Here it is obvious that a geographical map would be ideal."
   ]
  }
 ],
 "metadata": {
  "kernelspec": {
   "display_name": "Python 3",
   "language": "python",
   "name": "python3"
  },
  "language_info": {
   "codemirror_mode": {
    "name": "ipython",
    "version": 3
   },
   "file_extension": ".py",
   "mimetype": "text/x-python",
   "name": "python",
   "nbconvert_exporter": "python",
   "pygments_lexer": "ipython3",
   "version": "3.7.3"
  }
 },
 "nbformat": 4,
 "nbformat_minor": 2
}
