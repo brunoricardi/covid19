{
 "cells": [
  {
   "cell_type": "code",
   "execution_count": 1,
   "metadata": {},
   "outputs": [],
   "source": [
    "import pandas as pd\n",
    "import matplotlib\n",
    "%matplotlib inline"
   ]
  },
  {
   "cell_type": "code",
   "execution_count": 65,
   "metadata": {},
   "outputs": [],
   "source": [
    "file = '/home/babreu/Science/covid19/repo/champaign_county/cuc.csv'\n",
    "df = pd.read_csv(file,parse_dates=['date'])"
   ]
  },
  {
   "cell_type": "code",
   "execution_count": 32,
   "metadata": {},
   "outputs": [],
   "source": [
    "#df.set_index('date',inplace=True)"
   ]
  },
  {
   "cell_type": "code",
   "execution_count": 66,
   "metadata": {},
   "outputs": [
    {
     "data": {
      "text/html": [
       "<div>\n",
       "<style scoped>\n",
       "    .dataframe tbody tr th:only-of-type {\n",
       "        vertical-align: middle;\n",
       "    }\n",
       "\n",
       "    .dataframe tbody tr th {\n",
       "        vertical-align: top;\n",
       "    }\n",
       "\n",
       "    .dataframe thead th {\n",
       "        text-align: right;\n",
       "    }\n",
       "</style>\n",
       "<table border=\"1\" class=\"dataframe\">\n",
       "  <thead>\n",
       "    <tr style=\"text-align: right;\">\n",
       "      <th></th>\n",
       "      <th>date</th>\n",
       "      <th>confirmed</th>\n",
       "      <th>deaths</th>\n",
       "      <th>recovered</th>\n",
       "      <th>curr_hospitalized</th>\n",
       "      <th>tests</th>\n",
       "    </tr>\n",
       "  </thead>\n",
       "  <tbody>\n",
       "    <tr>\n",
       "      <th>0</th>\n",
       "      <td>2020-04-14</td>\n",
       "      <td>89</td>\n",
       "      <td>2</td>\n",
       "      <td>54</td>\n",
       "      <td>10</td>\n",
       "      <td>1481</td>\n",
       "    </tr>\n",
       "    <tr>\n",
       "      <th>1</th>\n",
       "      <td>2020-04-15</td>\n",
       "      <td>90</td>\n",
       "      <td>2</td>\n",
       "      <td>55</td>\n",
       "      <td>5</td>\n",
       "      <td>1638</td>\n",
       "    </tr>\n",
       "    <tr>\n",
       "      <th>2</th>\n",
       "      <td>2020-04-16</td>\n",
       "      <td>91</td>\n",
       "      <td>4</td>\n",
       "      <td>56</td>\n",
       "      <td>6</td>\n",
       "      <td>1714</td>\n",
       "    </tr>\n",
       "    <tr>\n",
       "      <th>3</th>\n",
       "      <td>2020-04-17</td>\n",
       "      <td>93</td>\n",
       "      <td>4</td>\n",
       "      <td>57</td>\n",
       "      <td>6</td>\n",
       "      <td>1758</td>\n",
       "    </tr>\n",
       "    <tr>\n",
       "      <th>4</th>\n",
       "      <td>2020-04-18</td>\n",
       "      <td>94</td>\n",
       "      <td>4</td>\n",
       "      <td>61</td>\n",
       "      <td>6</td>\n",
       "      <td>1848</td>\n",
       "    </tr>\n",
       "    <tr>\n",
       "      <th>5</th>\n",
       "      <td>2020-04-19</td>\n",
       "      <td>95</td>\n",
       "      <td>4</td>\n",
       "      <td>61</td>\n",
       "      <td>6</td>\n",
       "      <td>1889</td>\n",
       "    </tr>\n",
       "    <tr>\n",
       "      <th>6</th>\n",
       "      <td>2020-04-20</td>\n",
       "      <td>95</td>\n",
       "      <td>4</td>\n",
       "      <td>62</td>\n",
       "      <td>5</td>\n",
       "      <td>1929</td>\n",
       "    </tr>\n",
       "    <tr>\n",
       "      <th>7</th>\n",
       "      <td>2020-04-21</td>\n",
       "      <td>96</td>\n",
       "      <td>4</td>\n",
       "      <td>79</td>\n",
       "      <td>6</td>\n",
       "      <td>1983</td>\n",
       "    </tr>\n",
       "    <tr>\n",
       "      <th>8</th>\n",
       "      <td>2020-04-22</td>\n",
       "      <td>98</td>\n",
       "      <td>5</td>\n",
       "      <td>79</td>\n",
       "      <td>6</td>\n",
       "      <td>2103</td>\n",
       "    </tr>\n",
       "    <tr>\n",
       "      <th>9</th>\n",
       "      <td>2020-04-23</td>\n",
       "      <td>100</td>\n",
       "      <td>5</td>\n",
       "      <td>79</td>\n",
       "      <td>6</td>\n",
       "      <td>2208</td>\n",
       "    </tr>\n",
       "    <tr>\n",
       "      <th>10</th>\n",
       "      <td>2020-04-24</td>\n",
       "      <td>103</td>\n",
       "      <td>5</td>\n",
       "      <td>81</td>\n",
       "      <td>6</td>\n",
       "      <td>2279</td>\n",
       "    </tr>\n",
       "    <tr>\n",
       "      <th>11</th>\n",
       "      <td>2020-04-25</td>\n",
       "      <td>104</td>\n",
       "      <td>5</td>\n",
       "      <td>81</td>\n",
       "      <td>6</td>\n",
       "      <td>2348</td>\n",
       "    </tr>\n",
       "    <tr>\n",
       "      <th>12</th>\n",
       "      <td>2020-04-26</td>\n",
       "      <td>108</td>\n",
       "      <td>5</td>\n",
       "      <td>81</td>\n",
       "      <td>6</td>\n",
       "      <td>2475</td>\n",
       "    </tr>\n",
       "    <tr>\n",
       "      <th>13</th>\n",
       "      <td>2020-04-27</td>\n",
       "      <td>109</td>\n",
       "      <td>6</td>\n",
       "      <td>81</td>\n",
       "      <td>5</td>\n",
       "      <td>2529</td>\n",
       "    </tr>\n",
       "    <tr>\n",
       "      <th>14</th>\n",
       "      <td>2020-04-28</td>\n",
       "      <td>114</td>\n",
       "      <td>6</td>\n",
       "      <td>86</td>\n",
       "      <td>6</td>\n",
       "      <td>2624</td>\n",
       "    </tr>\n",
       "    <tr>\n",
       "      <th>15</th>\n",
       "      <td>2020-04-29</td>\n",
       "      <td>124</td>\n",
       "      <td>6</td>\n",
       "      <td>86</td>\n",
       "      <td>6</td>\n",
       "      <td>2869</td>\n",
       "    </tr>\n",
       "    <tr>\n",
       "      <th>16</th>\n",
       "      <td>2020-04-30</td>\n",
       "      <td>135</td>\n",
       "      <td>6</td>\n",
       "      <td>89</td>\n",
       "      <td>6</td>\n",
       "      <td>3128</td>\n",
       "    </tr>\n",
       "    <tr>\n",
       "      <th>17</th>\n",
       "      <td>2020-05-01</td>\n",
       "      <td>149</td>\n",
       "      <td>6</td>\n",
       "      <td>89</td>\n",
       "      <td>6</td>\n",
       "      <td>3361</td>\n",
       "    </tr>\n",
       "    <tr>\n",
       "      <th>18</th>\n",
       "      <td>2020-05-02</td>\n",
       "      <td>169</td>\n",
       "      <td>6</td>\n",
       "      <td>89</td>\n",
       "      <td>6</td>\n",
       "      <td>3679</td>\n",
       "    </tr>\n",
       "    <tr>\n",
       "      <th>19</th>\n",
       "      <td>2020-05-03</td>\n",
       "      <td>173</td>\n",
       "      <td>6</td>\n",
       "      <td>90</td>\n",
       "      <td>6</td>\n",
       "      <td>3820</td>\n",
       "    </tr>\n",
       "  </tbody>\n",
       "</table>\n",
       "</div>"
      ],
      "text/plain": [
       "         date  confirmed  deaths  recovered  curr_hospitalized  tests\n",
       "0  2020-04-14         89       2         54                 10   1481\n",
       "1  2020-04-15         90       2         55                  5   1638\n",
       "2  2020-04-16         91       4         56                  6   1714\n",
       "3  2020-04-17         93       4         57                  6   1758\n",
       "4  2020-04-18         94       4         61                  6   1848\n",
       "5  2020-04-19         95       4         61                  6   1889\n",
       "6  2020-04-20         95       4         62                  5   1929\n",
       "7  2020-04-21         96       4         79                  6   1983\n",
       "8  2020-04-22         98       5         79                  6   2103\n",
       "9  2020-04-23        100       5         79                  6   2208\n",
       "10 2020-04-24        103       5         81                  6   2279\n",
       "11 2020-04-25        104       5         81                  6   2348\n",
       "12 2020-04-26        108       5         81                  6   2475\n",
       "13 2020-04-27        109       6         81                  5   2529\n",
       "14 2020-04-28        114       6         86                  6   2624\n",
       "15 2020-04-29        124       6         86                  6   2869\n",
       "16 2020-04-30        135       6         89                  6   3128\n",
       "17 2020-05-01        149       6         89                  6   3361\n",
       "18 2020-05-02        169       6         89                  6   3679\n",
       "19 2020-05-03        173       6         90                  6   3820"
      ]
     },
     "execution_count": 66,
     "metadata": {},
     "output_type": "execute_result"
    }
   ],
   "source": [
    "df"
   ]
  },
  {
   "cell_type": "code",
   "execution_count": 67,
   "metadata": {},
   "outputs": [],
   "source": [
    "df['active'] = df['confirmed'] - df['recovered'] - df['deaths']"
   ]
  },
  {
   "cell_type": "code",
   "execution_count": 69,
   "metadata": {},
   "outputs": [
    {
     "data": {
      "text/plain": [
       "Text(0, 0.5, 'Cases')"
      ]
     },
     "execution_count": 69,
     "metadata": {},
     "output_type": "execute_result"
    },
    {
     "data": {
      "image/png": "[encoded data removed]",
      "text/plain": [
       "<Figure size 432x288 with 1 Axes>"
      ]
     },
     "metadata": {
      "needs_background": "light"
     },
     "output_type": "display_data"
    }
   ],
   "source": [
    "ax = df.plot.bar(x='date',y=['active','recovered','deaths'],stacked=True,color=['orange','green','red'],rot=90)\n",
    "legend = matplotlib.pyplot.legend(['Active','Recovered','Deaths'])\n",
    "ax.add_artist(legend)\n",
    "ax.set_xlabel('Date',fontsize=16)\n",
    "ax.set_ylabel('Cases',fontsize=16)"
   ]
  },
  {
   "cell_type": "code",
   "execution_count": 70,
   "metadata": {},
   "outputs": [
    {
     "data": {
      "image/png": "[encoded data removed]",
      "text/plain": [
       "<Figure size 432x288 with 1 Axes>"
      ]
     },
     "metadata": {
      "needs_background": "light"
     },
     "output_type": "display_data"
    }
   ],
   "source": [
    "ax.clear()\n",
    "ax = df.plot.bar(x='date',y=['tests'])"
   ]
  },
  {
   "cell_type": "code",
   "execution_count": 72,
   "metadata": {},
   "outputs": [
    {
     "data": {
      "text/html": [
       "<div>\n",
       "<style scoped>\n",
       "    .dataframe tbody tr th:only-of-type {\n",
       "        vertical-align: middle;\n",
       "    }\n",
       "\n",
       "    .dataframe tbody tr th {\n",
       "        vertical-align: top;\n",
       "    }\n",
       "\n",
       "    .dataframe thead th {\n",
       "        text-align: right;\n",
       "    }\n",
       "</style>\n",
       "<table border=\"1\" class=\"dataframe\">\n",
       "  <thead>\n",
       "    <tr style=\"text-align: right;\">\n",
       "      <th></th>\n",
       "      <th>date</th>\n",
       "      <th>confirmed</th>\n",
       "      <th>deaths</th>\n",
       "      <th>recovered</th>\n",
       "      <th>curr_hospitalized</th>\n",
       "      <th>tests</th>\n",
       "      <th>active</th>\n",
       "      <th>conf/tests</th>\n",
       "    </tr>\n",
       "  </thead>\n",
       "  <tbody>\n",
       "    <tr>\n",
       "      <th>2</th>\n",
       "      <td>2020-04-16</td>\n",
       "      <td>91</td>\n",
       "      <td>4</td>\n",
       "      <td>56</td>\n",
       "      <td>6</td>\n",
       "      <td>1714</td>\n",
       "      <td>31</td>\n",
       "      <td>0.053092</td>\n",
       "    </tr>\n",
       "    <tr>\n",
       "      <th>5</th>\n",
       "      <td>2020-04-19</td>\n",
       "      <td>95</td>\n",
       "      <td>4</td>\n",
       "      <td>61</td>\n",
       "      <td>6</td>\n",
       "      <td>1889</td>\n",
       "      <td>30</td>\n",
       "      <td>0.050291</td>\n",
       "    </tr>\n",
       "    <tr>\n",
       "      <th>13</th>\n",
       "      <td>2020-04-27</td>\n",
       "      <td>109</td>\n",
       "      <td>6</td>\n",
       "      <td>81</td>\n",
       "      <td>5</td>\n",
       "      <td>2529</td>\n",
       "      <td>22</td>\n",
       "      <td>0.043100</td>\n",
       "    </tr>\n",
       "    <tr>\n",
       "      <th>19</th>\n",
       "      <td>2020-05-03</td>\n",
       "      <td>173</td>\n",
       "      <td>6</td>\n",
       "      <td>90</td>\n",
       "      <td>6</td>\n",
       "      <td>3820</td>\n",
       "      <td>77</td>\n",
       "      <td>0.045288</td>\n",
       "    </tr>\n",
       "    <tr>\n",
       "      <th>16</th>\n",
       "      <td>2020-04-30</td>\n",
       "      <td>135</td>\n",
       "      <td>6</td>\n",
       "      <td>89</td>\n",
       "      <td>6</td>\n",
       "      <td>3128</td>\n",
       "      <td>40</td>\n",
       "      <td>0.043159</td>\n",
       "    </tr>\n",
       "  </tbody>\n",
       "</table>\n",
       "</div>"
      ],
      "text/plain": [
       "         date  confirmed  deaths  recovered  curr_hospitalized  tests  active  \\\n",
       "2  2020-04-16         91       4         56                  6   1714      31   \n",
       "5  2020-04-19         95       4         61                  6   1889      30   \n",
       "13 2020-04-27        109       6         81                  5   2529      22   \n",
       "19 2020-05-03        173       6         90                  6   3820      77   \n",
       "16 2020-04-30        135       6         89                  6   3128      40   \n",
       "\n",
       "    conf/tests  \n",
       "2     0.053092  \n",
       "5     0.050291  \n",
       "13    0.043100  \n",
       "19    0.045288  \n",
       "16    0.043159  "
      ]
     },
     "execution_count": 72,
     "metadata": {},
     "output_type": "execute_result"
    }
   ],
   "source": [
    "df['conf/tests'] = df['confirmed'] / df['tests']\n",
    "df.sample(5)"
   ]
  },
  {
   "cell_type": "code",
   "execution_count": 73,
   "metadata": {},
   "outputs": [
    {
     "data": {
      "image/png": "[encoded data removed]",
      "text/plain": [
       "<Figure size 432x288 with 1 Axes>"
      ]
     },
     "metadata": {
      "needs_background": "light"
     },
     "output_type": "display_data"
    }
   ],
   "source": [
    "ax.clear()\n",
    "ax = df.plot(x='date',y=['conf/tests'])"
   ]
  },
  {
   "cell_type": "code",
   "execution_count": null,
   "metadata": {},
   "outputs": [],
   "source": []
  }
 ],
 "metadata": {
  "kernelspec": {
   "display_name": "Python 3",
   "language": "python",
   "name": "python3"
  },
  "language_info": {
   "codemirror_mode": {
    "name": "ipython",
    "version": 3
   },
   "file_extension": ".py",
   "mimetype": "text/x-python",
   "name": "python",
   "nbconvert_exporter": "python",
   "pygments_lexer": "ipython3",
   "version": "3.7.3"
  }
 },
 "nbformat": 4,
 "nbformat_minor": 2
}
