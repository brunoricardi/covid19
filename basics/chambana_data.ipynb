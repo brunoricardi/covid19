{
 "cells": [
  {
   "cell_type": "code",
   "execution_count": 1,
   "metadata": {},
   "outputs": [],
   "source": [
    "import pandas as pd\n",
    "import matplotlib\n",
    "%matplotlib inline"
   ]
  },
  {
   "cell_type": "code",
   "execution_count": 2,
   "metadata": {},
   "outputs": [],
   "source": [
    "file = '/home/babreu/Science/covid19/repo/champaign_county/cuc.csv'\n",
    "df = pd.read_csv(file,parse_dates=['date'])"
   ]
  },
  {
   "cell_type": "code",
   "execution_count": 10,
   "metadata": {},
   "outputs": [
    {
     "data": {
      "text/html": [
       "<div>\n",
       "<style scoped>\n",
       "    .dataframe tbody tr th:only-of-type {\n",
       "        vertical-align: middle;\n",
       "    }\n",
       "\n",
       "    .dataframe tbody tr th {\n",
       "        vertical-align: top;\n",
       "    }\n",
       "\n",
       "    .dataframe thead th {\n",
       "        text-align: right;\n",
       "    }\n",
       "</style>\n",
       "<table border=\"1\" class=\"dataframe\">\n",
       "  <thead>\n",
       "    <tr style=\"text-align: right;\">\n",
       "      <th></th>\n",
       "      <th>date</th>\n",
       "      <th>confirmed</th>\n",
       "      <th>deaths</th>\n",
       "      <th>recovered</th>\n",
       "      <th>curr_hospitalized</th>\n",
       "      <th>tests</th>\n",
       "      <th>active</th>\n",
       "      <th>conf/tests</th>\n",
       "    </tr>\n",
       "  </thead>\n",
       "  <tbody>\n",
       "    <tr>\n",
       "      <th>16</th>\n",
       "      <td>2020-04-30</td>\n",
       "      <td>135</td>\n",
       "      <td>6</td>\n",
       "      <td>89</td>\n",
       "      <td>6</td>\n",
       "      <td>3128</td>\n",
       "      <td>40</td>\n",
       "      <td>0.043159</td>\n",
       "    </tr>\n",
       "    <tr>\n",
       "      <th>11</th>\n",
       "      <td>2020-04-25</td>\n",
       "      <td>104</td>\n",
       "      <td>5</td>\n",
       "      <td>81</td>\n",
       "      <td>6</td>\n",
       "      <td>2348</td>\n",
       "      <td>18</td>\n",
       "      <td>0.044293</td>\n",
       "    </tr>\n",
       "    <tr>\n",
       "      <th>10</th>\n",
       "      <td>2020-04-24</td>\n",
       "      <td>103</td>\n",
       "      <td>5</td>\n",
       "      <td>81</td>\n",
       "      <td>6</td>\n",
       "      <td>2279</td>\n",
       "      <td>17</td>\n",
       "      <td>0.045195</td>\n",
       "    </tr>\n",
       "    <tr>\n",
       "      <th>1</th>\n",
       "      <td>2020-04-15</td>\n",
       "      <td>90</td>\n",
       "      <td>2</td>\n",
       "      <td>55</td>\n",
       "      <td>5</td>\n",
       "      <td>1638</td>\n",
       "      <td>33</td>\n",
       "      <td>0.054945</td>\n",
       "    </tr>\n",
       "    <tr>\n",
       "      <th>12</th>\n",
       "      <td>2020-04-26</td>\n",
       "      <td>108</td>\n",
       "      <td>5</td>\n",
       "      <td>81</td>\n",
       "      <td>6</td>\n",
       "      <td>2475</td>\n",
       "      <td>22</td>\n",
       "      <td>0.043636</td>\n",
       "    </tr>\n",
       "  </tbody>\n",
       "</table>\n",
       "</div>"
      ],
      "text/plain": [
       "         date  confirmed  deaths  recovered  curr_hospitalized  tests  active  \\\n",
       "16 2020-04-30        135       6         89                  6   3128      40   \n",
       "11 2020-04-25        104       5         81                  6   2348      18   \n",
       "10 2020-04-24        103       5         81                  6   2279      17   \n",
       "1  2020-04-15         90       2         55                  5   1638      33   \n",
       "12 2020-04-26        108       5         81                  6   2475      22   \n",
       "\n",
       "    conf/tests  \n",
       "16    0.043159  \n",
       "11    0.044293  \n",
       "10    0.045195  \n",
       "1     0.054945  \n",
       "12    0.043636  "
      ]
     },
     "execution_count": 10,
     "metadata": {},
     "output_type": "execute_result"
    }
   ],
   "source": [
    "df.sample(5)"
   ]
  },
  {
   "cell_type": "code",
   "execution_count": 5,
   "metadata": {},
   "outputs": [],
   "source": [
    "df['active'] = df['confirmed'] - df['recovered'] - df['deaths']"
   ]
  },
  {
   "cell_type": "code",
   "execution_count": 21,
   "metadata": {},
   "outputs": [
    {
     "data": {
      "text/plain": [
       "Text(0, 0.5, 'Cases')"
      ]
     },
     "execution_count": 21,
     "metadata": {},
     "output_type": "execute_result"
    },
    {
     "data": {
      "image/png": "[encoded data removed]",
      "text/plain": [
       "<Figure size 432x288 with 1 Axes>"
      ]
     },
     "metadata": {
      "needs_background": "light"
     },
     "output_type": "display_data"
    }
   ],
   "source": [
    "ax = df.plot.bar(x='date',y=['active','recovered','deaths'],stacked=True,color=['orange','green','red'],rot=90)\n",
    "legend = matplotlib.pyplot.legend(['Active','Recovered','Deaths'])\n",
    "ax.add_artist(legend)\n",
    "ax.set_xlabel('Date',fontsize=16)\n",
    "ax.set_ylabel('Cases',fontsize=16)"
   ]
  },
  {
   "cell_type": "code",
   "execution_count": 60,
   "metadata": {},
   "outputs": [
    {
     "data": {
      "image/png": "[encoded data removed]",
      "text/plain": [
       "<Figure size 432x288 with 1 Axes>"
      ]
     },
     "metadata": {
      "needs_background": "light"
     },
     "output_type": "display_data"
    }
   ],
   "source": [
    "import matplotlib.dates as mdates\n",
    "from matplotlib.dates import DateFormatter\n",
    "import matplotlib.pyplot as plt\n",
    "import datetime\n",
    "\n",
    "fig = plt.figure()\n",
    "ax = fig.add_axes([0,0,1,1])\n",
    "ax.bar(df['date'],df['active'],color=['orange'])\n",
    "ax.bar(df['date'],df['recovered'],bottom=df['active'],color=['green'])\n",
    "ax.bar(df['date'],df['deaths'],color=['red'],bottom=(df['active']+df['recovered']))\n",
    "\n",
    "ax.set_ylabel('Cases')\n",
    "ax.set_title('Champaign County, IL',fontsize=16)\n",
    "ax.legend(labels=['Active','Recovered','Deaths'],fontsize=14)\n",
    "date_form = DateFormatter('%m/%d')\n",
    "ax.xaxis.set_major_formatter(date_form)\n",
    "ax.xaxis.set_major_locator(mdates.WeekdayLocator(interval=1))\n",
    "ax.set_xlabel('Date',fontsize=16)\n",
    "ax.set_ylabel('Cases',fontsize=18)\n",
    "ax.set_xlim(datetime.date(2020,4,13), datetime.date(2020,5,7))\n",
    "\n",
    "plt.tick_params(labelsize=14)\n",
    "plt.show()"
   ]
  },
  {
   "cell_type": "code",
   "execution_count": 7,
   "metadata": {},
   "outputs": [
    {
     "data": {
      "image/png": "[encoded data removed]",
      "text/plain": [
       "<Figure size 432x288 with 1 Axes>"
      ]
     },
     "metadata": {
      "needs_background": "light"
     },
     "output_type": "display_data"
    }
   ],
   "source": [
    "ax.clear()\n",
    "ax = df.plot.bar(x='date',y=['tests'])"
   ]
  },
  {
   "cell_type": "code",
   "execution_count": 8,
   "metadata": {},
   "outputs": [
    {
     "data": {
      "text/html": [
       "<div>\n",
       "<style scoped>\n",
       "    .dataframe tbody tr th:only-of-type {\n",
       "        vertical-align: middle;\n",
       "    }\n",
       "\n",
       "    .dataframe tbody tr th {\n",
       "        vertical-align: top;\n",
       "    }\n",
       "\n",
       "    .dataframe thead th {\n",
       "        text-align: right;\n",
       "    }\n",
       "</style>\n",
       "<table border=\"1\" class=\"dataframe\">\n",
       "  <thead>\n",
       "    <tr style=\"text-align: right;\">\n",
       "      <th></th>\n",
       "      <th>date</th>\n",
       "      <th>confirmed</th>\n",
       "      <th>deaths</th>\n",
       "      <th>recovered</th>\n",
       "      <th>curr_hospitalized</th>\n",
       "      <th>tests</th>\n",
       "      <th>active</th>\n",
       "      <th>conf/tests</th>\n",
       "    </tr>\n",
       "  </thead>\n",
       "  <tbody>\n",
       "    <tr>\n",
       "      <th>7</th>\n",
       "      <td>2020-04-21</td>\n",
       "      <td>96</td>\n",
       "      <td>4</td>\n",
       "      <td>79</td>\n",
       "      <td>6</td>\n",
       "      <td>1983</td>\n",
       "      <td>13</td>\n",
       "      <td>0.048411</td>\n",
       "    </tr>\n",
       "    <tr>\n",
       "      <th>5</th>\n",
       "      <td>2020-04-19</td>\n",
       "      <td>95</td>\n",
       "      <td>4</td>\n",
       "      <td>61</td>\n",
       "      <td>6</td>\n",
       "      <td>1889</td>\n",
       "      <td>30</td>\n",
       "      <td>0.050291</td>\n",
       "    </tr>\n",
       "    <tr>\n",
       "      <th>1</th>\n",
       "      <td>2020-04-15</td>\n",
       "      <td>90</td>\n",
       "      <td>2</td>\n",
       "      <td>55</td>\n",
       "      <td>5</td>\n",
       "      <td>1638</td>\n",
       "      <td>33</td>\n",
       "      <td>0.054945</td>\n",
       "    </tr>\n",
       "    <tr>\n",
       "      <th>22</th>\n",
       "      <td>2020-05-06</td>\n",
       "      <td>217</td>\n",
       "      <td>6</td>\n",
       "      <td>116</td>\n",
       "      <td>6</td>\n",
       "      <td>4559</td>\n",
       "      <td>95</td>\n",
       "      <td>0.047598</td>\n",
       "    </tr>\n",
       "    <tr>\n",
       "      <th>9</th>\n",
       "      <td>2020-04-23</td>\n",
       "      <td>100</td>\n",
       "      <td>5</td>\n",
       "      <td>79</td>\n",
       "      <td>6</td>\n",
       "      <td>2208</td>\n",
       "      <td>16</td>\n",
       "      <td>0.045290</td>\n",
       "    </tr>\n",
       "  </tbody>\n",
       "</table>\n",
       "</div>"
      ],
      "text/plain": [
       "         date  confirmed  deaths  recovered  curr_hospitalized  tests  active  \\\n",
       "7  2020-04-21         96       4         79                  6   1983      13   \n",
       "5  2020-04-19         95       4         61                  6   1889      30   \n",
       "1  2020-04-15         90       2         55                  5   1638      33   \n",
       "22 2020-05-06        217       6        116                  6   4559      95   \n",
       "9  2020-04-23        100       5         79                  6   2208      16   \n",
       "\n",
       "    conf/tests  \n",
       "7     0.048411  \n",
       "5     0.050291  \n",
       "1     0.054945  \n",
       "22    0.047598  \n",
       "9     0.045290  "
      ]
     },
     "execution_count": 8,
     "metadata": {},
     "output_type": "execute_result"
    }
   ],
   "source": [
    "df['conf/tests'] = df['confirmed'] / df['tests']\n",
    "df.sample(5)"
   ]
  },
  {
   "cell_type": "code",
   "execution_count": 9,
   "metadata": {},
   "outputs": [
    {
     "data": {
      "image/png": "[encoded data removed]",
      "text/plain": [
       "<Figure size 432x288 with 1 Axes>"
      ]
     },
     "metadata": {
      "needs_background": "light"
     },
     "output_type": "display_data"
    }
   ],
   "source": [
    "ax.clear()\n",
    "ax = df.plot(x='date',y=['conf/tests'])"
   ]
  },
  {
   "cell_type": "code",
   "execution_count": null,
   "metadata": {},
   "outputs": [],
   "source": []
  }
 ],
 "metadata": {
  "kernelspec": {
   "display_name": "Python 3",
   "language": "python",
   "name": "python3"
  },
  "language_info": {
   "codemirror_mode": {
    "name": "ipython",
    "version": 3
   },
   "file_extension": ".py",
   "mimetype": "text/x-python",
   "name": "python",
   "nbconvert_exporter": "python",
   "pygments_lexer": "ipython3",
   "version": "3.7.3"
  }
 },
 "nbformat": 4,
 "nbformat_minor": 2
}
